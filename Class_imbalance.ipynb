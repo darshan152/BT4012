{
 "cells": [
  {
   "cell_type": "code",
   "execution_count": 1,
   "metadata": {},
   "outputs": [],
   "source": [
    "import random\n",
    "import pandas as pd\n",
    "from imblearn.over_sampling import RandomOverSampler\n",
    "from imblearn.under_sampling import RandomUnderSampler\n",
    "from collections import Counter\n"
   ]
  },
  {
   "cell_type": "code",
   "execution_count": 2,
   "metadata": {},
   "outputs": [],
   "source": [
    "# Loading the 5 train sets\n",
    "data1 = pd.read_csv('data/train1.csv')\n",
    "data2 = pd.read_csv('data/train2.csv')\n",
    "data3 = pd.read_csv('data/train3.csv')\n",
    "data4 = pd.read_csv('data/train4.csv')\n",
    "data5 = pd.read_csv('data/train5.csv')\n"
   ]
  },
  {
   "cell_type": "code",
   "execution_count": 12,
   "metadata": {},
   "outputs": [],
   "source": [
    "# Store data into array\n",
    "data = [data1,data2,data3,data4,data5]"
   ]
  },
  {
   "cell_type": "code",
   "execution_count": 13,
   "metadata": {},
   "outputs": [
    {
     "name": "stdout",
     "output_type": "stream",
     "text": [
      "Counter({0: 599496, 1: 504})\n",
      "Counter({0: 599496, 1: 504})\n",
      "Counter({0: 599496, 1: 504})\n",
      "Counter({0: 599496, 1: 504})\n",
      "Counter({0: 599496, 1: 504})\n"
     ]
    }
   ],
   "source": [
    "# Splitting the data into Dependent and Independent Variables, and saving it to an array\n",
    "X_Y = []\n",
    "for d in data:\n",
    "       x = d[['Rndrng_NPI', 'Rndrng_Prvdr_Type', 'Rndrng_Prvdr_Gndr',\n",
    "              'Rndrng_Prvdr_State_Abrvtn', 'HCPCS_Cd', 'Tot_Srvcs', 'Tot_Benes',\n",
    "              'Tot_Bene_Day_Srvcs', 'Avg_Sbmtd_Chrg', 'Avg_Mdcr_Pymt_Amt']]\n",
    "       y = d['Fraud']\n",
    "       X_Y.append([x,y])\n",
    "       print(Counter(y))"
   ]
  },
  {
   "cell_type": "code",
   "execution_count": 26,
   "metadata": {},
   "outputs": [
    {
     "name": "stdout",
     "output_type": "stream",
     "text": [
      "Ratio: 0.01\n",
      "Counter({0: 599496, 1: 5994})\n",
      "Counter({0: 599496, 1: 5994})\n",
      "Counter({0: 599496, 1: 5994})\n",
      "Counter({0: 599496, 1: 5994})\n",
      "Counter({0: 599496, 1: 5994})\n",
      "Ratio: 0.25\n",
      "Counter({0: 599496, 1: 149874})\n",
      "Counter({0: 599496, 1: 149874})\n",
      "Counter({0: 599496, 1: 149874})\n",
      "Counter({0: 599496, 1: 149874})\n",
      "Counter({0: 599496, 1: 149874})\n",
      "Ratio: 0.6666666666666666\n",
      "Counter({0: 599496, 1: 399664})\n",
      "Counter({0: 599496, 1: 399664})\n",
      "Counter({0: 599496, 1: 399664})\n",
      "Counter({0: 599496, 1: 399664})\n",
      "Counter({0: 599496, 1: 399664})\n",
      "Ratio: 1\n",
      "Counter({1: 599496, 0: 599496})\n",
      "Counter({1: 599496, 0: 599496})\n",
      "Counter({1: 599496, 0: 599496})\n",
      "Counter({1: 599496, 0: 599496})\n",
      "Counter({1: 599496, 0: 599496})\n"
     ]
    }
   ],
   "source": [
    "# Performing Oversampling\n",
    "data_arr = []\n",
    "ratios = [0.01,0.25,2/3,1]\n",
    "for i in ratios:\n",
    "       sample = []\n",
    "       print(f\"Ratio: {i}\")\n",
    "       for d in X_Y:\n",
    "              # define oversampling strategy\n",
    "              oversample = RandomOverSampler(sampling_strategy=i,random_state = int(4012/i))\n",
    "              # fit and apply the transform\n",
    "              X_over, y_over = oversample.fit_resample(d[0], d[1])\n",
    "              # summarize class distribution\n",
    "              print(Counter(y_over))\n",
    "              X_over['Fraud'] = y_over\n",
    "              sample.append(X_over)\n",
    "       data_arr.append(sample)"
   ]
  },
  {
   "cell_type": "code",
   "execution_count": 30,
   "metadata": {},
   "outputs": [],
   "source": [
    "# Saving the Oversampling data to csv\n",
    "for ratio in range(len(data_arr)):\n",
    "    for data in range(len(data_arr[ratio])):\n",
    "       data_arr[ratio][data].to_csv(f'data/ROS_{ratios[ratio]}_{data+1}.csv')"
   ]
  },
  {
   "cell_type": "code",
   "execution_count": 31,
   "metadata": {},
   "outputs": [
    {
     "name": "stdout",
     "output_type": "stream",
     "text": [
      "Ratio: 0.01\n",
      "Counter({0: 50400, 1: 504})\n",
      "Counter({0: 50400, 1: 504})\n",
      "Counter({0: 50400, 1: 504})\n",
      "Counter({0: 50400, 1: 504})\n",
      "Counter({0: 50400, 1: 504})\n",
      "Ratio: 0.25\n",
      "Counter({0: 2016, 1: 504})\n",
      "Counter({0: 2016, 1: 504})\n",
      "Counter({0: 2016, 1: 504})\n",
      "Counter({0: 2016, 1: 504})\n",
      "Counter({0: 2016, 1: 504})\n",
      "Ratio: 0.6666666666666666\n",
      "Counter({0: 756, 1: 504})\n",
      "Counter({0: 756, 1: 504})\n",
      "Counter({0: 756, 1: 504})\n",
      "Counter({0: 756, 1: 504})\n",
      "Counter({0: 756, 1: 504})\n",
      "Ratio: 1\n",
      "Counter({0: 504, 1: 504})\n",
      "Counter({0: 504, 1: 504})\n",
      "Counter({0: 504, 1: 504})\n",
      "Counter({0: 504, 1: 504})\n",
      "Counter({0: 504, 1: 504})\n"
     ]
    }
   ],
   "source": [
    "# Performing Undersampling\n",
    "data_arr = []\n",
    "ratios = [0.01,0.25,2/3,1]\n",
    "for i in ratios:\n",
    "       sample = []\n",
    "       print(f\"Ratio: {i}\")\n",
    "       for d in X_Y:\n",
    "              # define undersampling strategy\n",
    "              undersample = RandomUnderSampler(sampling_strategy=i,random_state = int(4012/i))\n",
    "              # fit and apply the transform\n",
    "              X_under, y_under = undersample.fit_resample(d[0], d[1])\n",
    "              # summarize class distribution\n",
    "              print(Counter(y_under))\n",
    "              X_under['Fraud'] = y_under\n",
    "              sample.append(X_under)\n",
    "       data_arr.append(sample)"
   ]
  },
  {
   "cell_type": "code",
   "execution_count": 32,
   "metadata": {},
   "outputs": [],
   "source": [
    "# Saving the Undersampling data to csv\n",
    "for ratio in range(len(data_arr)):\n",
    "    for data in range(len(data_arr[ratio])):\n",
    "       data_arr[ratio][data].to_csv(f'data/RUS_{ratios[ratio]}_{data+1}.csv')"
   ]
  },
  {
   "cell_type": "code",
   "execution_count": 35,
   "metadata": {},
   "outputs": [
    {
     "name": "stdout",
     "output_type": "stream",
     "text": [
      "Ratio: 0.1\n",
      "Counter({0: 59949, 1: 59949})\n",
      "Counter({0: 59949, 1: 59949})\n",
      "Counter({0: 59949, 1: 59949})\n",
      "Counter({0: 59949, 1: 59949})\n",
      "Counter({0: 59949, 1: 59949})\n",
      "Ratio: 0.25\n",
      "Counter({0: 149874, 1: 149874})\n",
      "Counter({0: 149874, 1: 149874})\n",
      "Counter({0: 149874, 1: 149874})\n",
      "Counter({0: 149874, 1: 149874})\n",
      "Counter({0: 149874, 1: 149874})\n",
      "Ratio: 0.5\n",
      "Counter({0: 299748, 1: 299748})\n",
      "Counter({0: 299748, 1: 299748})\n",
      "Counter({0: 299748, 1: 299748})\n",
      "Counter({0: 299748, 1: 299748})\n",
      "Counter({0: 299748, 1: 299748})\n"
     ]
    }
   ],
   "source": [
    "# Performing ROS-RUS\n",
    "data_arr = []\n",
    "ratios = [0.1,0.25,0.5]\n",
    "for i in ratios:\n",
    "       sample = []\n",
    "       print(f\"Ratio: {i}\")\n",
    "       for d in X_Y:\n",
    "              undersample = RandomUnderSampler(sampling_strategy=504/(i*599496),random_state = int(4012/i))\n",
    "              X_over, y_over = undersample.fit_resample(d[0],d[1])\n",
    "              oversample = RandomOverSampler(sampling_strategy=1,random_state = int(4012/i))\n",
    "              X_over_under, y_over_under = oversample.fit_resample(X_over, y_over)\n",
    "              print(Counter(y_over_under))\n",
    "              X_over_under['Fraud'] = y_over_under\n",
    "              sample.append(X_over_under)\n",
    "       data_arr.append(sample)\n"
   ]
  },
  {
   "cell_type": "code",
   "execution_count": 36,
   "metadata": {},
   "outputs": [],
   "source": [
    "# Saving RUS-ROS data\n",
    "for ratio in range(len(data_arr)):\n",
    "    for data in range(len(data_arr[ratio])):\n",
    "       data_arr[ratio][data].to_csv(f'data/ROS_RUS_{ratios[ratio]}_{data+1}.csv')\n"
   ]
  }
 ],
 "metadata": {
  "interpreter": {
   "hash": "9fb14a10052bd3a71bddb15a4fea9a42f2f2b92c8939d53b34dd0bf6168ca7ad"
  },
  "kernelspec": {
   "display_name": "Python 3.8.3 64-bit ('base': conda)",
   "name": "python3"
  },
  "language_info": {
   "codemirror_mode": {
    "name": "ipython",
    "version": 3
   },
   "file_extension": ".py",
   "mimetype": "text/x-python",
   "name": "python",
   "nbconvert_exporter": "python",
   "pygments_lexer": "ipython3",
   "version": "3.8.3"
  },
  "orig_nbformat": 4
 },
 "nbformat": 4,
 "nbformat_minor": 2
}
