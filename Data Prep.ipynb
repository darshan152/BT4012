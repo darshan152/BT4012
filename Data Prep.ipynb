{
 "cells": [
  {
   "cell_type": "code",
   "execution_count": 1,
   "metadata": {},
   "outputs": [],
   "source": [
    "import pandas as pd\n",
    "from sklearn.model_selection import train_test_split\n",
    "from sklearn.model_selection import StratifiedKFold"
   ]
  },
  {
   "cell_type": "code",
   "execution_count": 2,
   "metadata": {},
   "outputs": [
    {
     "name": "stderr",
     "output_type": "stream",
     "text": [
      "C:\\Users\\Darshan\\anaconda3\\lib\\site-packages\\IPython\\core\\interactiveshell.py:3071: DtypeWarning: Columns (12) have mixed types.Specify dtype option on import or set low_memory=False.\n",
      "  has_raised = await self.run_ast_nodes(code_ast.body, cell_name,\n"
     ]
    }
   ],
   "source": [
    "# Reading data, data comes in 3 separate CSV files, one for each year 2013-2015\n",
    "data2013 = pd.read_csv('data/MUP_PHY_R19_P04_V10_D13_Prov_Svc.csv')\n",
    "data2014 = pd.read_csv('data/MUP_PHY_R19_P04_V10_D14_Prov_Svc.csv')\n",
    "data2015 = pd.read_csv('data/MUP_PHY_R19_P04_V10_D15_Prov_Svc.csv')"
   ]
  },
  {
   "cell_type": "code",
   "execution_count": 3,
   "metadata": {},
   "outputs": [],
   "source": [
    "# Keeping only columns that are needed\n",
    "data2013 = data2013[['Rndrng_NPI','Rndrng_Prvdr_Type','Rndrng_Prvdr_Gndr','Rndrng_Prvdr_State_Abrvtn','HCPCS_Cd','Tot_Srvcs','Tot_Benes','Tot_Bene_Day_Srvcs','Avg_Sbmtd_Chrg','Avg_Mdcr_Pymt_Amt']]\n",
    "data2014 = data2014[['Rndrng_NPI','Rndrng_Prvdr_Type','Rndrng_Prvdr_Gndr','Rndrng_Prvdr_State_Abrvtn','HCPCS_Cd','Tot_Srvcs','Tot_Benes','Tot_Bene_Day_Srvcs','Avg_Sbmtd_Chrg','Avg_Mdcr_Pymt_Amt']]\n",
    "data2015 = data2015[['Rndrng_NPI','Rndrng_Prvdr_Type','Rndrng_Prvdr_Gndr','Rndrng_Prvdr_State_Abrvtn','HCPCS_Cd','Tot_Srvcs','Tot_Benes','Tot_Bene_Day_Srvcs','Avg_Sbmtd_Chrg','Avg_Mdcr_Pymt_Amt']]"
   ]
  },
  {
   "cell_type": "code",
   "execution_count": 4,
   "metadata": {},
   "outputs": [
    {
     "name": "stderr",
     "output_type": "stream",
     "text": [
      "C:\\Users\\Darshan\\anaconda3\\lib\\site-packages\\IPython\\core\\interactiveshell.py:3071: DtypeWarning: Columns (3) have mixed types.Specify dtype option on import or set low_memory=False.\n",
      "  has_raised = await self.run_ast_nodes(code_ast.body, cell_name,\n"
     ]
    }
   ],
   "source": [
    "# Reading LEIE data\n",
    "LEIE = pd.read_csv('data/UPDATED.csv')"
   ]
  },
  {
   "cell_type": "code",
   "execution_count": 5,
   "metadata": {},
   "outputs": [],
   "source": [
    "# Adding the year to each dataset in order to determine fraud\n",
    "data2013['Year'] = 2013\n",
    "data2014['Year'] = 2014\n",
    "data2015['Year'] = 2015"
   ]
  },
  {
   "cell_type": "code",
   "execution_count": 6,
   "metadata": {},
   "outputs": [
    {
     "data": {
      "text/html": [
       "<div>\n",
       "<style scoped>\n",
       "    .dataframe tbody tr th:only-of-type {\n",
       "        vertical-align: middle;\n",
       "    }\n",
       "\n",
       "    .dataframe tbody tr th {\n",
       "        vertical-align: top;\n",
       "    }\n",
       "\n",
       "    .dataframe thead th {\n",
       "        text-align: right;\n",
       "    }\n",
       "</style>\n",
       "<table border=\"1\" class=\"dataframe\">\n",
       "  <thead>\n",
       "    <tr style=\"text-align: right;\">\n",
       "      <th></th>\n",
       "      <th>NPI</th>\n",
       "      <th>EXCLTYPE</th>\n",
       "      <th>EXCLDATE</th>\n",
       "      <th>REINDATE</th>\n",
       "      <th>WAIVERDATE</th>\n",
       "      <th>WVRSTATE</th>\n",
       "      <th>MINEX</th>\n",
       "      <th>EXCLYR</th>\n",
       "      <th>WAIVERYR</th>\n",
       "    </tr>\n",
       "  </thead>\n",
       "  <tbody>\n",
       "    <tr>\n",
       "      <th>0</th>\n",
       "      <td>0</td>\n",
       "      <td>1128a1</td>\n",
       "      <td>20200319</td>\n",
       "      <td>0</td>\n",
       "      <td>0</td>\n",
       "      <td>NaN</td>\n",
       "      <td>5.0</td>\n",
       "      <td>2020</td>\n",
       "      <td>3000</td>\n",
       "    </tr>\n",
       "    <tr>\n",
       "      <th>1</th>\n",
       "      <td>0</td>\n",
       "      <td>1128a1</td>\n",
       "      <td>19880830</td>\n",
       "      <td>0</td>\n",
       "      <td>0</td>\n",
       "      <td>NaN</td>\n",
       "      <td>5.0</td>\n",
       "      <td>1988</td>\n",
       "      <td>3000</td>\n",
       "    </tr>\n",
       "    <tr>\n",
       "      <th>3</th>\n",
       "      <td>1922348218</td>\n",
       "      <td>1128a1</td>\n",
       "      <td>20180419</td>\n",
       "      <td>0</td>\n",
       "      <td>0</td>\n",
       "      <td>NaN</td>\n",
       "      <td>5.0</td>\n",
       "      <td>2018</td>\n",
       "      <td>3000</td>\n",
       "    </tr>\n",
       "    <tr>\n",
       "      <th>5</th>\n",
       "      <td>0</td>\n",
       "      <td>1128a1</td>\n",
       "      <td>19940524</td>\n",
       "      <td>0</td>\n",
       "      <td>0</td>\n",
       "      <td>NaN</td>\n",
       "      <td>5.0</td>\n",
       "      <td>1994</td>\n",
       "      <td>3000</td>\n",
       "    </tr>\n",
       "    <tr>\n",
       "      <th>7</th>\n",
       "      <td>0</td>\n",
       "      <td>1128a1</td>\n",
       "      <td>20110818</td>\n",
       "      <td>0</td>\n",
       "      <td>0</td>\n",
       "      <td>NaN</td>\n",
       "      <td>5.0</td>\n",
       "      <td>2011</td>\n",
       "      <td>3000</td>\n",
       "    </tr>\n",
       "    <tr>\n",
       "      <th>...</th>\n",
       "      <td>...</td>\n",
       "      <td>...</td>\n",
       "      <td>...</td>\n",
       "      <td>...</td>\n",
       "      <td>...</td>\n",
       "      <td>...</td>\n",
       "      <td>...</td>\n",
       "      <td>...</td>\n",
       "      <td>...</td>\n",
       "    </tr>\n",
       "    <tr>\n",
       "      <th>73093</th>\n",
       "      <td>0</td>\n",
       "      <td>1128a1</td>\n",
       "      <td>20020718</td>\n",
       "      <td>0</td>\n",
       "      <td>0</td>\n",
       "      <td>NaN</td>\n",
       "      <td>5.0</td>\n",
       "      <td>2002</td>\n",
       "      <td>3000</td>\n",
       "    </tr>\n",
       "    <tr>\n",
       "      <th>73094</th>\n",
       "      <td>0</td>\n",
       "      <td>1128a1</td>\n",
       "      <td>20160519</td>\n",
       "      <td>0</td>\n",
       "      <td>0</td>\n",
       "      <td>NaN</td>\n",
       "      <td>5.0</td>\n",
       "      <td>2016</td>\n",
       "      <td>3000</td>\n",
       "    </tr>\n",
       "    <tr>\n",
       "      <th>73098</th>\n",
       "      <td>0</td>\n",
       "      <td>1128a1</td>\n",
       "      <td>20010118</td>\n",
       "      <td>0</td>\n",
       "      <td>0</td>\n",
       "      <td>NaN</td>\n",
       "      <td>5.0</td>\n",
       "      <td>2001</td>\n",
       "      <td>3000</td>\n",
       "    </tr>\n",
       "    <tr>\n",
       "      <th>73101</th>\n",
       "      <td>0</td>\n",
       "      <td>1128a1</td>\n",
       "      <td>20160519</td>\n",
       "      <td>0</td>\n",
       "      <td>0</td>\n",
       "      <td>NaN</td>\n",
       "      <td>5.0</td>\n",
       "      <td>2016</td>\n",
       "      <td>3000</td>\n",
       "    </tr>\n",
       "    <tr>\n",
       "      <th>73105</th>\n",
       "      <td>0</td>\n",
       "      <td>1128a2</td>\n",
       "      <td>20040920</td>\n",
       "      <td>0</td>\n",
       "      <td>0</td>\n",
       "      <td>NaN</td>\n",
       "      <td>5.0</td>\n",
       "      <td>2004</td>\n",
       "      <td>3000</td>\n",
       "    </tr>\n",
       "  </tbody>\n",
       "</table>\n",
       "<p>37005 rows × 9 columns</p>\n",
       "</div>"
      ],
      "text/plain": [
       "              NPI EXCLTYPE  EXCLDATE  REINDATE  WAIVERDATE WVRSTATE  MINEX  \\\n",
       "0               0   1128a1  20200319         0           0      NaN    5.0   \n",
       "1               0   1128a1  19880830         0           0      NaN    5.0   \n",
       "3      1922348218   1128a1  20180419         0           0      NaN    5.0   \n",
       "5               0   1128a1  19940524         0           0      NaN    5.0   \n",
       "7               0   1128a1  20110818         0           0      NaN    5.0   \n",
       "...           ...      ...       ...       ...         ...      ...    ...   \n",
       "73093           0   1128a1  20020718         0           0      NaN    5.0   \n",
       "73094           0   1128a1  20160519         0           0      NaN    5.0   \n",
       "73098           0   1128a1  20010118         0           0      NaN    5.0   \n",
       "73101           0   1128a1  20160519         0           0      NaN    5.0   \n",
       "73105           0   1128a2  20040920         0           0      NaN    5.0   \n",
       "\n",
       "       EXCLYR  WAIVERYR  \n",
       "0        2020      3000  \n",
       "1        1988      3000  \n",
       "3        2018      3000  \n",
       "5        1994      3000  \n",
       "7        2011      3000  \n",
       "...       ...       ...  \n",
       "73093    2002      3000  \n",
       "73094    2016      3000  \n",
       "73098    2001      3000  \n",
       "73101    2016      3000  \n",
       "73105    2004      3000  \n",
       "\n",
       "[37005 rows x 9 columns]"
      ]
     },
     "execution_count": 6,
     "metadata": {},
     "output_type": "execute_result"
    }
   ],
   "source": [
    "# Preprocessing the LEIE Data\n",
    "\n",
    "# Removing unused columns\n",
    "LEIE = LEIE[['NPI', 'EXCLTYPE', 'EXCLDATE', 'REINDATE', 'WAIVERDATE', 'WVRSTATE']]\n",
    "\n",
    "# Strip the Exclusion type due to excess whitespace\n",
    "LEIE['EXCLTYPE'] = LEIE['EXCLTYPE'].apply(lambda x: x.strip())\n",
    "\n",
    "# Data of minimum exclusion period for each Exclusion type\n",
    "dic = {\"1128a1\":5,'1128a2':5,\"1128a3\":5,'1128a4':5,\"1128b1\":3,'1128b2':3,'1128b3':3,'1128b6':1, '1156':1}\n",
    "# https://web.archive.org/web/20200522223236/https://oig.hhs.gov/exclusions/authorities.asp\n",
    "\n",
    "# Adding data of Min exclusion period\n",
    "LEIE['MINEX'] = LEIE['EXCLTYPE'].apply(lambda x: dic[x] if (x in dic.keys()) else None)\n",
    "\n",
    "# Removing data of other Exclusion types\n",
    "LEIE = LEIE[LEIE['MINEX'].notnull()]\n",
    "\n",
    "# Extracting year from the date of exclusion for data\n",
    "LEIE['EXCLYR'] = LEIE['EXCLDATE'].apply(lambda x: int(str(x)[:4]))\n",
    "LEIE['WAIVERYR'] = LEIE['WAIVERDATE'].apply(lambda x: int(str(x)[:4]) if x != 0 else 3000)\n",
    "\n",
    "LEIE"
   ]
  },
  {
   "cell_type": "code",
   "execution_count": 7,
   "metadata": {},
   "outputs": [],
   "source": [
    "# Adding LEIE data\n",
    "data2015 = data2015.merge(LEIE, how='left', left_on='Rndrng_NPI', right_on='NPI')"
   ]
  },
  {
   "cell_type": "code",
   "execution_count": 8,
   "metadata": {},
   "outputs": [],
   "source": [
    "data2014 = data2014.merge(LEIE, how='left', left_on='Rndrng_NPI', right_on='NPI')"
   ]
  },
  {
   "cell_type": "code",
   "execution_count": 9,
   "metadata": {},
   "outputs": [],
   "source": [
    "data2013 = data2013.merge(LEIE, how='left', left_on='Rndrng_NPI', right_on='NPI')"
   ]
  },
  {
   "cell_type": "code",
   "execution_count": 10,
   "metadata": {},
   "outputs": [],
   "source": [
    "# Determining if an entry is fraud or not\n",
    "def fraud(x):\n",
    "    return 1 if (x['Year'] < (x['MINEX'] + x['EXCLYR'])) and (x['Year'] < x['WAIVERYR']) else 0\n",
    "\n",
    "data2015['Fraud'] = data2015.apply(fraud, axis=1)\n",
    "data2014['Fraud'] = data2014.apply(fraud, axis=1)\n",
    "data2013['Fraud'] = data2013.apply(fraud, axis=1)\n"
   ]
  },
  {
   "cell_type": "code",
   "execution_count": 11,
   "metadata": {},
   "outputs": [],
   "source": [
    "# Combining data for all 3 years\n",
    "data = pd.concat([data2013,data2014,data2015])"
   ]
  },
  {
   "cell_type": "code",
   "execution_count": 12,
   "metadata": {},
   "outputs": [],
   "source": [
    "# Keeping only columns that are needed\n",
    "data = data[['Rndrng_NPI','Rndrng_Prvdr_Type','Rndrng_Prvdr_Gndr','Rndrng_Prvdr_State_Abrvtn','HCPCS_Cd','Tot_Srvcs','Tot_Benes','Tot_Bene_Day_Srvcs','Avg_Sbmtd_Chrg','Avg_Mdcr_Pymt_Amt','Fraud']]"
   ]
  },
  {
   "cell_type": "code",
   "execution_count": 13,
   "metadata": {},
   "outputs": [
    {
     "data": {
      "text/plain": [
       "((28099708, 11), (22106, 11), (28077602, 11))"
      ]
     },
     "execution_count": 13,
     "metadata": {},
     "output_type": "execute_result"
    }
   ],
   "source": [
    "# Checking Shape of data\n",
    "data_fraud = data[data['Fraud'] == 1]\n",
    "data_nonfraud = data[data['Fraud'] == 0]\n",
    "(data.shape,data_fraud.shape,data_nonfraud.shape)"
   ]
  },
  {
   "cell_type": "code",
   "execution_count": 14,
   "metadata": {},
   "outputs": [],
   "source": [
    "# Stratified Sampling of dataset to obrain new dataset\n",
    "fraud_ratio = 0.00084\n",
    "total_num = 750000\n",
    "num_Fraud = int(fraud_ratio*total_num)\n",
    "df_temp = data_fraud.sample(replace=False, n=num_Fraud, random_state=4012)\n",
    "df_temp2 = data_nonfraud.sample(replace=False, n=(total_num - num_Fraud), random_state=2104)"
   ]
  },
  {
   "cell_type": "code",
   "execution_count": 15,
   "metadata": {},
   "outputs": [],
   "source": [
    "# Combining data obtained\n",
    "data_sampled = pd.concat([df_temp,df_temp2])\n",
    "X = data_sampled[['Rndrng_NPI','Rndrng_Prvdr_Type','Rndrng_Prvdr_Gndr','Rndrng_Prvdr_State_Abrvtn','HCPCS_Cd','Tot_Srvcs','Tot_Benes','Tot_Bene_Day_Srvcs','Avg_Sbmtd_Chrg','Avg_Mdcr_Pymt_Amt']]\n",
    "y = data_sampled['Fraud']\n",
    "\n",
    "# Saving to csv\n",
    "data_sampled.to_csv('data/data_sampled.csv')"
   ]
  },
  {
   "cell_type": "code",
   "execution_count": 30,
   "metadata": {},
   "outputs": [
    {
     "name": "stdout",
     "output_type": "stream",
     "text": [
      "TRAIN: [     0      3      5 ... 749997 749998 749999] TEST: [     1      2      4 ... 749985 749990 749996]\n",
      "0    599496\n",
      "1       504\n",
      "Name: Fraud, dtype: int64\n",
      "0    149874\n",
      "1       126\n",
      "Name: Fraud, dtype: int64\n"
     ]
    },
    {
     "name": "stderr",
     "output_type": "stream",
     "text": [
      "<ipython-input-30-2d30843a273e>:8: SettingWithCopyWarning: \n",
      "A value is trying to be set on a copy of a slice from a DataFrame.\n",
      "Try using .loc[row_indexer,col_indexer] = value instead\n",
      "\n",
      "See the caveats in the documentation: https://pandas.pydata.org/pandas-docs/stable/user_guide/indexing.html#returning-a-view-versus-a-copy\n",
      "  X_train[\"Fraud\"] = y_train\n",
      "<ipython-input-30-2d30843a273e>:9: SettingWithCopyWarning: \n",
      "A value is trying to be set on a copy of a slice from a DataFrame.\n",
      "Try using .loc[row_indexer,col_indexer] = value instead\n",
      "\n",
      "See the caveats in the documentation: https://pandas.pydata.org/pandas-docs/stable/user_guide/indexing.html#returning-a-view-versus-a-copy\n",
      "  X_test[\"Fraud\"] = y_test\n"
     ]
    },
    {
     "name": "stdout",
     "output_type": "stream",
     "text": [
      "TRAIN: [     0      1      2 ... 749996 749997 749998] TEST: [     8      9     19 ... 749984 749991 749999]\n",
      "0    599496\n",
      "1       504\n",
      "Name: Fraud, dtype: int64\n",
      "0    149874\n",
      "1       126\n",
      "Name: Fraud, dtype: int64\n",
      "TRAIN: [     1      2      3 ... 749997 749998 749999] TEST: [     0      5     10 ... 749987 749992 749993]\n",
      "0    599496\n",
      "1       504\n",
      "Name: Fraud, dtype: int64\n",
      "0    149874\n",
      "1       126\n",
      "Name: Fraud, dtype: int64\n",
      "TRAIN: [     0      1      2 ... 749996 749997 749999] TEST: [    13     16     17 ... 749988 749995 749998]\n",
      "0    599496\n",
      "1       504\n",
      "Name: Fraud, dtype: int64\n",
      "0    149874\n",
      "1       126\n",
      "Name: Fraud, dtype: int64\n",
      "TRAIN: [     0      1      2 ... 749996 749998 749999] TEST: [     3      6      7 ... 749989 749994 749997]\n",
      "0    599496\n",
      "1       504\n",
      "Name: Fraud, dtype: int64\n",
      "0    149874\n",
      "1       126\n",
      "Name: Fraud, dtype: int64\n"
     ]
    }
   ],
   "source": [
    "# Obtaining 5 Fold Train and test sets\n",
    "skf = StratifiedKFold(n_splits=5, random_state=4012, shuffle=True)\n",
    "i=0\n",
    "for train_index, test_index in skf.split(X, y):\n",
    "    i+=1\n",
    "    print(\"TRAIN:\", train_index, \"TEST:\", test_index)\n",
    "    X_train, X_test = X.iloc[train_index], X.iloc[test_index]\n",
    "    y_train, y_test = y.iloc[train_index], y.iloc[test_index]\n",
    "    X_train[\"Fraud\"] = y_train\n",
    "    X_test[\"Fraud\"] = y_test\n",
    "    print(X_train.Fraud.value_counts())\n",
    "    print(X_test.Fraud.value_counts())\n",
    "    X_train.to_csv(f'data/train{i}.csv')\n",
    "    X_test.to_csv(f'data/test{i}.csv')\n"
   ]
  }
 ],
 "metadata": {
  "interpreter": {
   "hash": "9fb14a10052bd3a71bddb15a4fea9a42f2f2b92c8939d53b34dd0bf6168ca7ad"
  },
  "kernelspec": {
   "display_name": "Python 3.8.3 64-bit ('base': conda)",
   "name": "python3"
  },
  "language_info": {
   "codemirror_mode": {
    "name": "ipython",
    "version": 3
   },
   "file_extension": ".py",
   "mimetype": "text/x-python",
   "name": "python",
   "nbconvert_exporter": "python",
   "pygments_lexer": "ipython3",
   "version": "3.8.3"
  },
  "orig_nbformat": 4
 },
 "nbformat": 4,
 "nbformat_minor": 2
}
